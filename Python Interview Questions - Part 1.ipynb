{
 "cells": [
  {
   "cell_type": "markdown",
   "metadata": {},
   "source": [
    "This document is part of www.Jeswin.com"
   ]
  },
  {
   "cell_type": "markdown",
   "metadata": {},
   "source": [
    "## Python Interview questions - Part 1 "
   ]
  },
  {
   "cell_type": "markdown",
   "metadata": {},
   "source": [
    "### Question 1"
   ]
  },
  {
   "cell_type": "markdown",
   "metadata": {},
   "source": [
    "Given a string, find the first non-repeating character in the string. For Example, if the input string is \"GodisGreat\", then output should be 'o'. "
   ]
  },
  {
   "cell_type": "markdown",
   "metadata": {},
   "source": [
    "#### Solution "
   ]
  },
  {
   "cell_type": "code",
   "execution_count": 39,
   "metadata": {},
   "outputs": [
    {
     "name": "stdout",
     "output_type": "stream",
     "text": [
      "GodisGreat\n"
     ]
    }
   ],
   "source": [
    "st = input()"
   ]
  },
  {
   "cell_type": "code",
   "execution_count": 40,
   "metadata": {},
   "outputs": [
    {
     "name": "stdout",
     "output_type": "stream",
     "text": [
      "o\n"
     ]
    }
   ],
   "source": [
    "x=0\n",
    "for c in st:\n",
    "    if c in st[x+1:]: \n",
    "        x += 1\n",
    "        continue\n",
    "    else : \n",
    "        print(c)\n",
    "        break"
   ]
  },
  {
   "cell_type": "markdown",
   "metadata": {},
   "source": [
    "### Question 2"
   ]
  },
  {
   "cell_type": "markdown",
   "metadata": {},
   "source": [
    "Given an array of numbers, arrange them in a way that yields the largest value. For example, if the given numbers are {54, 546, 548, 60}, the arrangement 6054854654 gives the largest value. And if the given numbers are {1, 34, 3, 98, 9, 76, 45, 4}, then the arrangement 998764543431 gives the largest value."
   ]
  },
  {
   "cell_type": "code",
   "execution_count": 17,
   "metadata": {},
   "outputs": [
    {
     "name": "stdout",
     "output_type": "stream",
     "text": [
      "4\n"
     ]
    }
   ],
   "source": [
    "N = int(input())"
   ]
  },
  {
   "cell_type": "code",
   "execution_count": 32,
   "metadata": {},
   "outputs": [
    {
     "name": "stdout",
     "output_type": "stream",
     "text": [
      "54 546 548 60\n"
     ]
    }
   ],
   "source": [
    "numbers = input().split()"
   ]
  },
  {
   "cell_type": "code",
   "execution_count": 33,
   "metadata": {},
   "outputs": [
    {
     "data": {
      "text/plain": [
       "['54', '546', '548', '60']"
      ]
     },
     "execution_count": 33,
     "metadata": {},
     "output_type": "execute_result"
    }
   ],
   "source": [
    "numbers"
   ]
  },
  {
   "cell_type": "code",
   "execution_count": 41,
   "metadata": {},
   "outputs": [],
   "source": [
    "## Solution 1"
   ]
  },
  {
   "cell_type": "code",
   "execution_count": 39,
   "metadata": {},
   "outputs": [],
   "source": [
    "from itertools import permutations \n",
    "def largest(l): \n",
    "    lst = [] \n",
    "    for i in permutations(l, len(l)): \n",
    "        # provides all permutations of the list values, \n",
    "        # store them in list to find max \n",
    "        lst.append(\"\".join(map(str,i)))  \n",
    "    return max(lst) "
   ]
  },
  {
   "cell_type": "code",
   "execution_count": 40,
   "metadata": {},
   "outputs": [
    {
     "data": {
      "text/plain": [
       "'6054854654'"
      ]
     },
     "execution_count": 40,
     "metadata": {},
     "output_type": "execute_result"
    }
   ],
   "source": [
    "largest(numbers)"
   ]
  },
  {
   "cell_type": "code",
   "execution_count": 42,
   "metadata": {},
   "outputs": [],
   "source": [
    "## Solution 2"
   ]
  },
  {
   "cell_type": "code",
   "execution_count": 48,
   "metadata": {},
   "outputs": [],
   "source": [
    "# custom comparator to sort according\n",
    "# to the ab, ba as mentioned in description\n",
    "def comparator(a, b): \n",
    "    ab = str(a) + str(b) \n",
    "    ba = str(b) + str(a) \n",
    "    return ((int(ba) > int(ab)) - (int(ba) < int(ab))) \n",
    " \n",
    "\n"
   ]
  },
  {
   "cell_type": "code",
   "execution_count": 49,
   "metadata": {},
   "outputs": [],
   "source": [
    "def myCompare(mycmp): \n",
    "      \n",
    "    # Convert a cmp= function into a key= function \n",
    "    class K(object): \n",
    "        def __init__(self, obj, *args): \n",
    "            self.obj = obj \n",
    "        def __lt__(self, other): \n",
    "            return mycmp(self.obj, other.obj) < 0\n",
    "        def __gt__(self, other): \n",
    "            return mycmp(self.obj, other.obj) > 0\n",
    "        def __eq__(self, other): \n",
    "            return mycmp(self.obj, other.obj) == 0\n",
    "        def __le__(self, other): \n",
    "            return mycmp(self.obj, other.obj) <= 0\n",
    "        def __ge__(self, other): \n",
    "            return mycmp(self.obj, other.obj) >= 0\n",
    "        def __ne__(self, other): \n",
    "            return mycmp(self.obj, other.obj) != 0\n",
    "    return K \n",
    " "
   ]
  },
  {
   "cell_type": "code",
   "execution_count": 50,
   "metadata": {},
   "outputs": [
    {
     "name": "stdout",
     "output_type": "stream",
     "text": [
      "6054854654\n"
     ]
    }
   ],
   "source": [
    "# driver code \n",
    "if __name__ == \"__main__\": \n",
    "    a = [54, 546, 548, 60, ] \n",
    "    sorted_array = sorted(a, key=myCompare(comparator)) \n",
    "    number = \"\".join([str(i) for i in sorted_array]) \n",
    "    print(number) "
   ]
  },
  {
   "cell_type": "code",
   "execution_count": null,
   "metadata": {},
   "outputs": [],
   "source": []
  }
 ],
 "metadata": {
  "kernelspec": {
   "display_name": "Python 3",
   "language": "python",
   "name": "python3"
  },
  "language_info": {
   "codemirror_mode": {
    "name": "ipython",
    "version": 3
   },
   "file_extension": ".py",
   "mimetype": "text/x-python",
   "name": "python",
   "nbconvert_exporter": "python",
   "pygments_lexer": "ipython3",
   "version": "3.8.5"
  }
 },
 "nbformat": 4,
 "nbformat_minor": 4
}
